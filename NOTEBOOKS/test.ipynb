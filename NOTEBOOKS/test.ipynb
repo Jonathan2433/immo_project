{
 "cells": [
  {
   "cell_type": "code",
   "execution_count": 1,
   "metadata": {
    "collapsed": true,
    "ExecuteTime": {
     "end_time": "2023-10-23T18:40:44.243318300Z",
     "start_time": "2023-10-23T18:40:43.346170800Z"
    }
   },
   "outputs": [],
   "source": [
    "import pandas as pd\n",
    "import plotly.express as px\n",
    "from bs4 import BeautifulSoup\n",
    "import requests"
   ]
  },
  {
   "cell_type": "code",
   "execution_count": 8,
   "outputs": [
    {
     "data": {
      "text/plain": "'\\nAvec des besoins quotidiens assez importants, l’énergie représente une somme importante chaque année. En parallèle, on remarque aussi que l’augmentation est notable au niveau du coût. Cela est variable en fonction des besoins et des différentes offres. Certaines personnes usent à mauvais escient les énergies.\\nRésultat : des dépenses inutiles. Réduire sa facture de moitié ou un peu ? C’est possible en usant de quelques astuces parfois très simples.\\nIsolez votre maison\\n\\nAvant de vous mettre à adopter un style de vie écolo et un mode de consommation responsable, il est important de travailler sur la structure de votre logement, et particulièrement son isolation. Savez-vous que 30 % des pertes de chaleur d’une maison sont occasionnées par des fuites au niveau du toit ? Le reste est perdu dans les ouvertures (fenêtres, portes, baies vitrées…), les murs et enfin les ponts thermiques.\\nCette question est prise au sérieux par l’État qui a mis en place un dispositif d’aide au financement pour la rénovation de sa maison et notamment au niveau de l’isolation de la toiture et de l’aménagement des combles. Les professionnels de la rénovation proposent d’accompagner aujourd’hui leur clientèle pour le montage financier du dossier.\\nUn bon système d’isolation est un préalable nécessaire à tout ce qui va suivre, car tous vos efforts se perdront dans la nature en transpirant des revêtements de votre maison. C’est pour cette raison qu’il faut penser aux innovations technologiques pour l’intérieur comme pour l’intérieur en préférant les revêtements thermiques ainsi que les matières naturellement imperméables tout en étant respirantes. C’est le cas par exemple des revêtements biosourcés qui sont faits à partir de matières issues de la biomasse végétale ou animale.\\nAdaptez votre système de chauffage\\n\\nSi vous voulez réaliser des économies significatives d’énergie et économiser sur votre prochaine facture d’électricité, il est indispensable de s’attaquer à ce qui consomme le plus, c’est-à-dire le chauffage de la maison. Parfois, il suffit de changer ses vieux appareils pour installer des modèles à basse consommation ainsi qu’un système de thermostat comme nous l’expliquons plus loin dans cet article.\\nNéanmoins, certains propriétaires font le choix de rendre leur habitat plus autonome dans ce domaine en investissant dans d’autres innovations énergétiques. Beaucoup font appel à la géothermie en installant des puits canadiens. Cela nécessite l’intervention d’experts dans ce domaine et une étude du sol très rigoureuse. D’autres utilisent l’aérothermie et optent pour un chauffe-eau thermodynamique. Enfin, il existe également des solutions solaires pour le chauffage de l’eau à installer sur le toit de sa maison.\\nLes appareils et ampoules à basse consommation\\nC’est la solution la plus rapide surtout si vous êtes de ceux qui veulent tout renouveler chez soi. Achetez des appareils électroménagers qui consomment moins. Dans les commerces, ils reviennent plus onéreux, mais la consommation baisse jusqu’à 10 fois. Ce sont les appareils de catégorie A+++. Il en va de même avec vos ampoules. Troquer votre ampoule traditionnelle contre une à économie d’énergie. D’ailleurs, cette dernière dure encore plus longtemps.\\nLes heures creuses\\nEntre 22h30 et 6h30 du matin, le coût de l’électricité diminue de 40%. Alors, faites fonctionner vos machines à ces heures.\\nLe frigo\\n\\nUn frigo plein à craquer et celui qui ne comporte qu’une seule pomme dépenseront la même énergie. Vous dites que c’est impossible et pourtant ça l’est. Tant que le réfrigérateur contient de la nourriture, il va dépenser de l’énergie pour cette dernière et le reste de la surface vide qui reste. Un fonctionnement assez paradoxal étant donné que le frigo va penser qu’il est plein alors qu’il ne contient qu’une pomme. Alors s’il ne reste qu’un peu de nourriture, éteignez le frigo jusqu’à ce que vous fassiez le plein à nouveau.\\nUne fois que la couche de glace atteint les 3 mm, dégivrez pour réduire la consommation. Une autre astuce qui fonctionne aussi est de mettre le frigo dans une dépendance moins chauffée. Pour le congélateur, il est préférable de l’installer dans une dépendance qui n’est pas du tout chauffée.\\nLe chauffage\\nLe premier poste de consommation revient au chauffage. À la moindre inattention, la facture peut flamber facilement sans qu’on puisse le noter. Et pour éviter cela, mieux vaut utiliser le chauffage par rapport à ses besoins réels. Dans les pièces où vous ne vivez pas, inutile d’y faire fonctionner le chauffage.\\nEn hiver, baissez la température dans les autres pièces peu fréquentées. D’ailleurs, une température un peu basse aide à favoriser le sommeil. De plus, vous profiterez d’une bonne réduction. Pour une baisse d’un degré à chaque fois, la diminution est de 7%. Avec une technologie de plus en plus avancée, on peut même régler son chauffage à distance et planifier les variations.\\nTout cela est possible avec un thermostat connecté. Avec ce petit bijou, vous pourrez régler la température même si vous n’êtes pas à la maison. Des régulations régulières permettent des réductions notables allant jusqu’à 20% s’il le faut. Cela peut être barbant sur le coup, mais faire des contrôles réguliers s’avère aussi être une bonne solution sur le long terme. Ces nouveaux gages d’économie peuvent se faire à travers différentes sortes de technologie en fonction de la maison et des besoins quotidiens de chaleur. Selon l’ADEME les variations doivent être les suivantes selon les pièces : 19°C pour les pièces à vivre, 16 pour les chambres et 21 pour la salle de bain. Pour plus de précisions, faites usage des robinets thermostatiques :\\nThermostat d’ambiance : c’est un thermostat qui utilise le système le plus ancien. Le prix est très accessible, mais il ne peut seulement varier la température de consigne.\\nThermostat d’ambiance programmable : il fonctionne de la même manière que le thermostat d’ambiance. La réduction de la température peut se faire à un certain moment de la journée. Il faut débourser en moyenne entre 50 à 200 euros pour l’acheter en commerce.\\nLe thermostat connecté : c’est le nouveau modèle de la technologie avancée. Il permet de paramétrer à distance via un téléphone ou une tablette. Le contrôle et les variations se font via des réseaux wi-fi. Comptez entre 150 à 300 euros pour en avoir, mais avec une centaine d’euros en poche dans la diminution de la consommation.\\nPréférez les alternatives écologiques\\nÀ notre ère, la dépendance aux machines est d’une telle qu’il nous est parfois impossible de faire les choses par nous-mêmes. Or, s’atteler à la tâche peut nous permettre de consommer moins pour ce qui est de l’énergie. C’est pourquoi les alternatifs écolos marchent toujours.\\nEt si nos ancêtres ont pu vivre aisément sans passer par des machines alors nous aussi nous le pouvons. Cela ne signifie pas pour autant que vous allez vivre à la mode verte tout le long de l’année. Quelques gestes suffisent amplement. Si vous pouvez troquer certaines machines contre certaines tâches que vous pouvez faire, alors faites-le.\\nPrenons l’exemple de la machine à laver : vous avez 4 linges sales. Pour économiser, faites le lavage à la main. Passer seulement 4 vêtements à la machine n’est pas la bonne solution pour économiser. Et quand vous utilisez la machine, le cas de plusieurs linges sales, essorez d’abord votre linge avant de le mettre dans la machine. Il en va de même pour le lave-vaisselle.\\nPour ce qui est du lave-vaisselle : vous ne pouvez pas vous en passer, prenez en compte les bons réflexes suivants : attendez que le lave-vaisselle soit plein pour le lancer, faites-le tourner à demi-charge si la machine n’est pas entièrement pleine, préférez toujours le mode écolo avec une consommation d’eau réduite à 18%, faites toujours des lavages avec de l’eau moins chaude.\\nLa salle de bain\\n\\nEn eau et électricité, la salle de bain détient aussi son record. Et sans nous en rendre en compte, la facture est souvent très salée sur ce point. En faisant le calcul, on peut comprendre facilement que les dépenses soient souvent plafonnées.\\nPour économiser, que ce soit en eau ou en électricité, privilégiez les douches aux bains. Car notez ceci : il faut consommer 200 L d’eau en moyenne pour remplir une baignoire sans compter que l’eau doit être chaude en plus. Alors que pour une douche, vous ne dépenserez qu’environ 70 litres d’eau. Ce qui constitue une économie allant jusqu’à 100 euros chaque année. Et même en prenant une douche, vous pourrez encore faire des économies. Optez alors pour un système stop douche. Ce dernier stoppe l’eau durant les moments où vous ne vous rincez pas. Acheté à 15 euros dans les magasins, la rentabilité se fait au bout de quelques mois seulement.\\nLa salle de bain peut également jouir d’équipements innovants permettant de consommer moins. C’est le cas de la douche du futur. Cette douche particulière ne consomme que 5 L d’eau pour 5 min contre les 70 L habituelles. L’eau est recyclée et filtrée durant l’utilisation de la douche. C’est un circuit fermé permettant de jouir d’une grande quantité d’eau sans trop dépenser. Et d’après OrbitralSystems, l’eau est très potable ce qui écarte les risques d’attraper des virus ou bactéries.\\nLes lavabos : Notre mauvaise manie c’est de laisser couler l’eau même si nous n’en avons pas besoin. Comme quand nous nous brossons les dents par exemple. Alors l’astuce est simple, ne laissez pas l’eau couler à flots si vous n’avez pas l’intention de l’utiliser. C’est juste du gâchis et votre facture en pâtira à coup sûr. Il existe aussi des équipements permettant de réduire la consommation d’eau : mitigeurs thermostatiques, mousseurs hydroéconomes.\\nLes WC : les chasses d’eau sont aussi de vrais dévoreurs d’eau. Une personne consomme en moyenne 40 euros d’eau rien que pour faire ses besoins aux toilettes. Pour réduire cette somme, équipez vos toilettes d’un système à double commande. Il permet de réguler le volume d’eau dépensé en fonction des besoins. Les toilettes écolos ça vous dit ? Ce sont des WC à la version vraiment très archaïque. Il est doté d’une grande fosse avec une plateforme où l’on peut faire ses besoins en dessus. Généralement on n’a pas besoin d’eau vu que les besoins tombent directement dans la fosse.\\nL’éclairage à la maison\\nDans de nombreux foyers, on remarque que l’éclairage est parfois utilisé de n’importe quelle façon. Il y a des pièces éclairées dans la maison alors qu’elles ne sont pas fréquentées. On peut aussi passer outre le gaspillage d’énergie en usant de simples astuces. Et rien de tel que de profiter de l’éclairage naturel qui demeure la meilleure option possible. Pour cela, privilégiez les objets à couleurs claires. Installez des interrupteurs à minuterie dans les lieux de passage. Pour ce qui est des ampoules, veillez à bien les choisir. 10 W suffisent par exemple pour les couloirs ou les pièces de passage.\\nL’éclairage naturel de la maison est très important notons le bien. Il serait alors apprécié d’avoir une maison avec des ouvertures placées aux bons endroits. Faites en sorte que les fenêtres et les portes laissent facilement infiltrer la lumière. De bonnes ouvertures placées stratégiquement peuvent vous être très bénéfiques. Évitez absolument les maisons trop sombres qui demeurent trop cloîtrées. Si nécessaire, faites des travaux qui pourront optimiser la lumière naturelle chez vous. Cela vous pourra être très rentable sur le long terme.\\nStopper le mode en veille\\nLe mode en veille de nos appareils consomme beaucoup pour ne rien faire. Et pourtant c’est le plus facile à réduire. Et pour ceux qui ne le savent pas, même éteints certains appareils restent toujours en veille. Alors, autant que possible débranchez-les.\\nMalheureusement, nous ne pouvons pas tous les débrancher sauf les appareils suivants : téléviseur, lecteur, consoles de jeu, ordinateur, cafetière, chaîne Hi-fi, micro-onde, tous les chargeurs pour appareils …\\nEt si vous n’avez pas trop envie de dépenser votre énergie à les débrancher un à un, utilisez des multiprises. Elles aident à couper le courant sur un seul secteur. Vous pouvez aussi vous munir d’une prise coupe-veille et d’un logiciel gestionnaire d’énergie.\\nLes dépenses extérieures\\nÀ un certain moment, quand on y pense les dépenses extérieures sont les plus faciles à solutionner. Vous devez laver la voiture ou encore arroser vos plantes. Utilisez tout simplement l’eau de pluie ! Récupérez l’eau à chaque fois et faites-en bon usage. Cela vous aidera beaucoup dans les autres tâches qui ne nécessitent pas d’eau potable : lavage du sol, maison, etc. Pour cela, c’est très simple, utilisez la gouttière de votre toit, placez un conteneur en dessous ou investissez dans des récupérateurs à enterrer.\\nPour ce qui est de l’éclairage extérieur, utiliser tout simplement des spots à énergie solaire. Il vous faudra débourser 40 euros au début, installation comprise. Mais après, l’électricité ne vous coûtera plus rien. Et cela demeure un bon plan très profitable surtout en été. Le soleil est très généreux et l’énergie générée est assez importante. Les spots à énergie solaire peuvent aussi être installés pour des utilisations dans votre maison.\\nFaire baisser sa facture d’énergie est parfois un jeu d’enfants (7 astuces pour réduire de 100€ sa facture d’eau et d’électricité).\\nOn se laisse souvent manipuler par les besoins apparents de nos appareils alors qu’on peut très bien les ajuster à nos besoins seulement. Il suffit aussi d’adopter les bons gestes et de profiter des meilleures astuces sur le marché. Vous verrez ensuite que votre portefeuille en souffrira moins, et cela sur le long terme.\\nPartager\\xa0:TwitterFacebookJ’aime ça\\xa0:J’aime chargement…\\n'"
     },
     "execution_count": 8,
     "metadata": {},
     "output_type": "execute_result"
    }
   ],
   "source": [
    "response = requests.get('https://leblogimmobilier.org/2019/05/04/comment-faire-baisser-sa-facture-denergie/')\n",
    "soup = BeautifulSoup(response.text, \"html.parser\")\n",
    "soup = soup.find('div', class_='post-content')\n",
    "soup.get_text()"
   ],
   "metadata": {
    "collapsed": false,
    "ExecuteTime": {
     "end_time": "2023-10-23T18:53:20.506937100Z",
     "start_time": "2023-10-23T18:53:19.903172800Z"
    }
   }
  },
  {
   "cell_type": "code",
   "execution_count": null,
   "outputs": [],
   "source": [],
   "metadata": {
    "collapsed": false
   }
  }
 ],
 "metadata": {
  "kernelspec": {
   "display_name": "Python 3",
   "language": "python",
   "name": "python3"
  },
  "language_info": {
   "codemirror_mode": {
    "name": "ipython",
    "version": 2
   },
   "file_extension": ".py",
   "mimetype": "text/x-python",
   "name": "python",
   "nbconvert_exporter": "python",
   "pygments_lexer": "ipython2",
   "version": "2.7.6"
  }
 },
 "nbformat": 4,
 "nbformat_minor": 0
}
